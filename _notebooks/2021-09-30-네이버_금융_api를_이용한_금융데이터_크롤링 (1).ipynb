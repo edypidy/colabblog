{
  "nbformat": 4,
  "nbformat_minor": 0,
  "metadata": {
    "colab": {
      "name": "2021-09-30_네이버 금융 api를 이용한 금융데이터 크롤링.ipynb",
      "provenance": [],
      "collapsed_sections": []
    },
    "kernelspec": {
      "name": "python3",
      "display_name": "Python 3"
    },
    "language_info": {
      "name": "python"
    }
  },
  "cells": [
    {
      "cell_type": "markdown",
      "source": [
        "# \"[Code] 네이버 금융 api를 이용한 금융데이터 크롤링. \"\n",
        "\n",
        "- toc:true\n",
        "- branch: master\n",
        "- badges: true\n",
        "- comments: true\n",
        "- author: Daniel Lee - edypidy\n",
        "- categories: [code, 크롤링, api, 네이버, 네이버 금융]"
      ],
      "metadata": {
        "id": "_3n41IlS7t99"
      }
    },
    {
      "cell_type": "markdown",
      "source": [
        "아주 흔하디 흔한 네이버 금융 api를 이용한 금융 데이터 크롤링을 해보겠습니다."
      ],
      "metadata": {
        "id": "QojrtRGu1wgJ"
      }
    },
    {
      "cell_type": "code",
      "execution_count": 4,
      "metadata": {
        "id": "bmXl250TjmSS"
      },
      "outputs": [],
      "source": [
        "import requests\n",
        "import json\n",
        "import pandas as pd"
      ]
    },
    {
      "cell_type": "code",
      "source": [
        "corp_code = '000020'\n",
        "startTime = 20160104\n",
        "endTime = 20210730\n",
        "timeframe = 'day'\n",
        "url = f'https://api.finance.naver.com/\\\n",
        "siseJson.naver?symbol={corp_code}&\\\n",
        "requestType=1&\\\n",
        "startTime={startTime}&\\\n",
        "endTime={endTime}&\\\n",
        "timeframe={timeframe}'\n",
        "\n",
        "result = requests.post(url)"
      ],
      "metadata": {
        "id": "Ib0Ww1Z8yVtj"
      },
      "execution_count": 11,
      "outputs": []
    },
    {
      "cell_type": "code",
      "source": [
        "url"
      ],
      "metadata": {
        "colab": {
          "base_uri": "https://localhost:8080/",
          "height": 54
        },
        "id": "jw8mK8PG2nhQ",
        "outputId": "f4f6ef0c-ac99-4f02-9409-7c99dcf0d4bc"
      },
      "execution_count": 12,
      "outputs": [
        {
          "output_type": "execute_result",
          "data": {
            "application/vnd.google.colaboratory.intrinsic+json": {
              "type": "string"
            },
            "text/plain": [
              "'https://api.finance.naver.com/siseJson.naver?symbol=000020&requestType=1&startTime=20160104&endTime=20210730&timeframe=day'"
            ]
          },
          "metadata": {},
          "execution_count": 12
        }
      ]
    },
    {
      "cell_type": "markdown",
      "source": [
        "위의 url은 아래와 같습니다. 참고로 \\\\는 줄바꿈을 위해 쓴 것이니 \n",
        "\n",
        "        f'https://api.finance.naver.com/siseJson.naver?symbol={corp_code}&requestType=1&startTime={startTime}&endTime={endTime}&timeframe={timeframe}'\n",
        "\n",
        "와 같이 써도 됩니다."
      ],
      "metadata": {
        "id": "GUTQ0gxw4VAX"
      }
    },
    {
      "cell_type": "code",
      "source": [
        "result"
      ],
      "metadata": {
        "colab": {
          "base_uri": "https://localhost:8080/"
        },
        "id": "wZXALoNO480l",
        "outputId": "5c67d0b1-6607-4135-eced-e3a455c1868c"
      },
      "execution_count": 16,
      "outputs": [
        {
          "output_type": "execute_result",
          "data": {
            "text/plain": [
              "<Response [200]>"
            ]
          },
          "metadata": {},
          "execution_count": 16
        }
      ]
    },
    {
      "cell_type": "markdown",
      "source": [
        "response로 200을 받은 것을 보니 잘 받아온 것 같습니다."
      ],
      "metadata": {
        "id": "0HtReTK15FHN"
      }
    },
    {
      "cell_type": "code",
      "source": [
        "result.text[:500]"
      ],
      "metadata": {
        "colab": {
          "base_uri": "https://localhost:8080/",
          "height": 127
        },
        "id": "D8-sjM7B5TFf",
        "outputId": "248c4336-4004-4259-ad4f-47f01caf796f"
      },
      "execution_count": 18,
      "outputs": [
        {
          "output_type": "execute_result",
          "data": {
            "application/vnd.google.colaboratory.intrinsic+json": {
              "type": "string"
            },
            "text/plain": [
              "'\\n [[\\'날짜\\', \\'시가\\', \\'고가\\', \\'저가\\', \\'종가\\', \\'거래량\\', \\'외국인소진율\\'],\\n\\n\\t\\n\\t\\n\\t\\t\\n[\"20160104\", 8130, 8150, 7920, 8140, 281440, 7.45],\\n\\t\\t\\n[\"20160105\", 8040, 8250, 8000, 8190, 243179, 7.49],\\n\\t\\t\\n[\"20160106\", 8200, 8590, 8110, 8550, 609906, 7.63],\\n\\t\\t\\n[\"20160107\", 8470, 8690, 8190, 8380, 704752, 7.59],\\n\\t\\t\\n[\"20160108\", 8210, 8900, 8130, 8770, 802330, 7.6],\\n\\t\\t\\n[\"20160111\", 8870, 10100, 8800, 9380, 2844188, 7.25],\\n\\t\\t\\n[\"20160112\", 9560, 9560, 8930, 9020, 834633, 7.05],\\n\\t\\t\\n[\"20160113\", 9190, 9200, 8600, 8780, 885059, 6.89],\\n\\t\\t'"
            ]
          },
          "metadata": {},
          "execution_count": 18
        }
      ]
    },
    {
      "cell_type": "markdown",
      "source": [
        "result의 text 속성엔 위와 같이 요청한 데이터가 담겨서 옵니다.\n",
        "\n",
        "replace 메소드와 strip메소드를 사용해서 아래와 같이 데이터를 정제해줍니다."
      ],
      "metadata": {
        "id": "OeZ1_cyd5d7Q"
      }
    },
    {
      "cell_type": "code",
      "source": [
        "result.text.replace(\"'\",'\"').strip()[:500]"
      ],
      "metadata": {
        "colab": {
          "base_uri": "https://localhost:8080/",
          "height": 127
        },
        "id": "jEcXfLJA53N5",
        "outputId": "8dbff979-ec2a-49df-c6e9-725cf549d20d"
      },
      "execution_count": 28,
      "outputs": [
        {
          "output_type": "execute_result",
          "data": {
            "application/vnd.google.colaboratory.intrinsic+json": {
              "type": "string"
            },
            "text/plain": [
              "'[[\"날짜\", \"시가\", \"고가\", \"저가\", \"종가\", \"거래량\", \"외국인소진율\"],\\n\\n\\t\\n\\t\\n\\t\\t\\n[\"20160104\", 8130, 8150, 7920, 8140, 281440, 7.45],\\n\\t\\t\\n[\"20160105\", 8040, 8250, 8000, 8190, 243179, 7.49],\\n\\t\\t\\n[\"20160106\", 8200, 8590, 8110, 8550, 609906, 7.63],\\n\\t\\t\\n[\"20160107\", 8470, 8690, 8190, 8380, 704752, 7.59],\\n\\t\\t\\n[\"20160108\", 8210, 8900, 8130, 8770, 802330, 7.6],\\n\\t\\t\\n[\"20160111\", 8870, 10100, 8800, 9380, 2844188, 7.25],\\n\\t\\t\\n[\"20160112\", 9560, 9560, 8930, 9020, 834633, 7.05],\\n\\t\\t\\n[\"20160113\", 9190, 9200, 8600, 8780, 885059, 6.89],\\n\\t\\t\\n['"
            ]
          },
          "metadata": {},
          "execution_count": 28
        }
      ]
    },
    {
      "cell_type": "markdown",
      "source": [
        "json의 loads 메소드를 사용해서 데이터 형태를 아래와 같이 바꿔줍니다."
      ],
      "metadata": {
        "id": "ZmKZrPSw61NS"
      }
    },
    {
      "cell_type": "code",
      "source": [
        "json.loads(result.text.replace(\"'\",'\"').strip())[:5]"
      ],
      "metadata": {
        "colab": {
          "base_uri": "https://localhost:8080/"
        },
        "id": "ITSI9z0b6nPw",
        "outputId": "b9e790f7-507d-47c8-e35d-d94b169c91c9"
      },
      "execution_count": 25,
      "outputs": [
        {
          "output_type": "execute_result",
          "data": {
            "text/plain": [
              "[['날짜', '시가', '고가', '저가', '종가', '거래량', '외국인소진율'],\n",
              " ['20160104', 8130, 8150, 7920, 8140, 281440, 7.45],\n",
              " ['20160105', 8040, 8250, 8000, 8190, 243179, 7.49],\n",
              " ['20160106', 8200, 8590, 8110, 8550, 609906, 7.63],\n",
              " ['20160107', 8470, 8690, 8190, 8380, 704752, 7.59]]"
            ]
          },
          "metadata": {},
          "execution_count": 25
        }
      ]
    },
    {
      "cell_type": "markdown",
      "source": [
        "여기서부턴 그냥 pandas 데이터 프레임 만드는 것과 동일합니다. 정리하면 코드는 아래와 같습니다."
      ],
      "metadata": {
        "id": "Ie_hktmk7C87"
      }
    },
    {
      "cell_type": "code",
      "source": [
        "import requests\n",
        "import json\n",
        "import pandas as pd\n",
        "\n",
        "corp_code = '000020'\n",
        "startTime = 20160104\n",
        "endTime = 20210730\n",
        "timeframe = 'day'\n",
        "url = f'https://api.finance.naver.com/\\\n",
        "siseJson.naver?symbol={corp_code}&\\\n",
        "requestType=1&\\\n",
        "startTime={startTime}&\\\n",
        "endTime={endTime}&\\\n",
        "timeframe={timeframe}'\n",
        "\n",
        "result = requests.post(url)\n",
        "\n",
        "data = result.text.replace(\"'\",'\"').strip()\n",
        "data = json.loads(data)\n",
        "data = pd.DataFrame(data[1:], columns=data[0])\n",
        "data['날짜'] = pd.to_datetime(data['날짜'])\n",
        "data['종목코드'] = corp_code"
      ],
      "metadata": {
        "id": "3zCuGAkmyXqw"
      },
      "execution_count": 26,
      "outputs": []
    },
    {
      "cell_type": "code",
      "source": [
        "data"
      ],
      "metadata": {
        "colab": {
          "base_uri": "https://localhost:8080/",
          "height": 424
        },
        "id": "p4GgN-PuyrtD",
        "outputId": "29be5481-f1dd-461c-c401-7792c1b2955f"
      },
      "execution_count": 27,
      "outputs": [
        {
          "output_type": "execute_result",
          "data": {
            "text/html": [
              "\n",
              "  <div id=\"df-0538740e-89b0-4a6f-a610-7bf89c147b80\">\n",
              "    <div class=\"colab-df-container\">\n",
              "      <div>\n",
              "<style scoped>\n",
              "    .dataframe tbody tr th:only-of-type {\n",
              "        vertical-align: middle;\n",
              "    }\n",
              "\n",
              "    .dataframe tbody tr th {\n",
              "        vertical-align: top;\n",
              "    }\n",
              "\n",
              "    .dataframe thead th {\n",
              "        text-align: right;\n",
              "    }\n",
              "</style>\n",
              "<table border=\"1\" class=\"dataframe\">\n",
              "  <thead>\n",
              "    <tr style=\"text-align: right;\">\n",
              "      <th></th>\n",
              "      <th>날짜</th>\n",
              "      <th>시가</th>\n",
              "      <th>고가</th>\n",
              "      <th>저가</th>\n",
              "      <th>종가</th>\n",
              "      <th>거래량</th>\n",
              "      <th>외국인소진율</th>\n",
              "      <th>종목코드</th>\n",
              "    </tr>\n",
              "  </thead>\n",
              "  <tbody>\n",
              "    <tr>\n",
              "      <th>0</th>\n",
              "      <td>2016-01-04</td>\n",
              "      <td>8130</td>\n",
              "      <td>8150</td>\n",
              "      <td>7920</td>\n",
              "      <td>8140</td>\n",
              "      <td>281440</td>\n",
              "      <td>7.45</td>\n",
              "      <td>000020</td>\n",
              "    </tr>\n",
              "    <tr>\n",
              "      <th>1</th>\n",
              "      <td>2016-01-05</td>\n",
              "      <td>8040</td>\n",
              "      <td>8250</td>\n",
              "      <td>8000</td>\n",
              "      <td>8190</td>\n",
              "      <td>243179</td>\n",
              "      <td>7.49</td>\n",
              "      <td>000020</td>\n",
              "    </tr>\n",
              "    <tr>\n",
              "      <th>2</th>\n",
              "      <td>2016-01-06</td>\n",
              "      <td>8200</td>\n",
              "      <td>8590</td>\n",
              "      <td>8110</td>\n",
              "      <td>8550</td>\n",
              "      <td>609906</td>\n",
              "      <td>7.63</td>\n",
              "      <td>000020</td>\n",
              "    </tr>\n",
              "    <tr>\n",
              "      <th>3</th>\n",
              "      <td>2016-01-07</td>\n",
              "      <td>8470</td>\n",
              "      <td>8690</td>\n",
              "      <td>8190</td>\n",
              "      <td>8380</td>\n",
              "      <td>704752</td>\n",
              "      <td>7.59</td>\n",
              "      <td>000020</td>\n",
              "    </tr>\n",
              "    <tr>\n",
              "      <th>4</th>\n",
              "      <td>2016-01-08</td>\n",
              "      <td>8210</td>\n",
              "      <td>8900</td>\n",
              "      <td>8130</td>\n",
              "      <td>8770</td>\n",
              "      <td>802330</td>\n",
              "      <td>7.60</td>\n",
              "      <td>000020</td>\n",
              "    </tr>\n",
              "    <tr>\n",
              "      <th>...</th>\n",
              "      <td>...</td>\n",
              "      <td>...</td>\n",
              "      <td>...</td>\n",
              "      <td>...</td>\n",
              "      <td>...</td>\n",
              "      <td>...</td>\n",
              "      <td>...</td>\n",
              "      <td>...</td>\n",
              "    </tr>\n",
              "    <tr>\n",
              "      <th>1367</th>\n",
              "      <td>2021-07-26</td>\n",
              "      <td>14700</td>\n",
              "      <td>14700</td>\n",
              "      <td>14350</td>\n",
              "      <td>14400</td>\n",
              "      <td>192180</td>\n",
              "      <td>2.54</td>\n",
              "      <td>000020</td>\n",
              "    </tr>\n",
              "    <tr>\n",
              "      <th>1368</th>\n",
              "      <td>2021-07-27</td>\n",
              "      <td>14500</td>\n",
              "      <td>14550</td>\n",
              "      <td>14350</td>\n",
              "      <td>14400</td>\n",
              "      <td>96069</td>\n",
              "      <td>2.55</td>\n",
              "      <td>000020</td>\n",
              "    </tr>\n",
              "    <tr>\n",
              "      <th>1369</th>\n",
              "      <td>2021-07-28</td>\n",
              "      <td>14300</td>\n",
              "      <td>14600</td>\n",
              "      <td>14300</td>\n",
              "      <td>14450</td>\n",
              "      <td>94912</td>\n",
              "      <td>2.56</td>\n",
              "      <td>000020</td>\n",
              "    </tr>\n",
              "    <tr>\n",
              "      <th>1370</th>\n",
              "      <td>2021-07-29</td>\n",
              "      <td>14500</td>\n",
              "      <td>14650</td>\n",
              "      <td>14500</td>\n",
              "      <td>14600</td>\n",
              "      <td>83468</td>\n",
              "      <td>2.56</td>\n",
              "      <td>000020</td>\n",
              "    </tr>\n",
              "    <tr>\n",
              "      <th>1371</th>\n",
              "      <td>2021-07-30</td>\n",
              "      <td>14650</td>\n",
              "      <td>14750</td>\n",
              "      <td>14400</td>\n",
              "      <td>14650</td>\n",
              "      <td>115604</td>\n",
              "      <td>2.55</td>\n",
              "      <td>000020</td>\n",
              "    </tr>\n",
              "  </tbody>\n",
              "</table>\n",
              "<p>1372 rows × 8 columns</p>\n",
              "</div>\n",
              "      <button class=\"colab-df-convert\" onclick=\"convertToInteractive('df-0538740e-89b0-4a6f-a610-7bf89c147b80')\"\n",
              "              title=\"Convert this dataframe to an interactive table.\"\n",
              "              style=\"display:none;\">\n",
              "        \n",
              "  <svg xmlns=\"http://www.w3.org/2000/svg\" height=\"24px\"viewBox=\"0 0 24 24\"\n",
              "       width=\"24px\">\n",
              "    <path d=\"M0 0h24v24H0V0z\" fill=\"none\"/>\n",
              "    <path d=\"M18.56 5.44l.94 2.06.94-2.06 2.06-.94-2.06-.94-.94-2.06-.94 2.06-2.06.94zm-11 1L8.5 8.5l.94-2.06 2.06-.94-2.06-.94L8.5 2.5l-.94 2.06-2.06.94zm10 10l.94 2.06.94-2.06 2.06-.94-2.06-.94-.94-2.06-.94 2.06-2.06.94z\"/><path d=\"M17.41 7.96l-1.37-1.37c-.4-.4-.92-.59-1.43-.59-.52 0-1.04.2-1.43.59L10.3 9.45l-7.72 7.72c-.78.78-.78 2.05 0 2.83L4 21.41c.39.39.9.59 1.41.59.51 0 1.02-.2 1.41-.59l7.78-7.78 2.81-2.81c.8-.78.8-2.07 0-2.86zM5.41 20L4 18.59l7.72-7.72 1.47 1.35L5.41 20z\"/>\n",
              "  </svg>\n",
              "      </button>\n",
              "      \n",
              "  <style>\n",
              "    .colab-df-container {\n",
              "      display:flex;\n",
              "      flex-wrap:wrap;\n",
              "      gap: 12px;\n",
              "    }\n",
              "\n",
              "    .colab-df-convert {\n",
              "      background-color: #E8F0FE;\n",
              "      border: none;\n",
              "      border-radius: 50%;\n",
              "      cursor: pointer;\n",
              "      display: none;\n",
              "      fill: #1967D2;\n",
              "      height: 32px;\n",
              "      padding: 0 0 0 0;\n",
              "      width: 32px;\n",
              "    }\n",
              "\n",
              "    .colab-df-convert:hover {\n",
              "      background-color: #E2EBFA;\n",
              "      box-shadow: 0px 1px 2px rgba(60, 64, 67, 0.3), 0px 1px 3px 1px rgba(60, 64, 67, 0.15);\n",
              "      fill: #174EA6;\n",
              "    }\n",
              "\n",
              "    [theme=dark] .colab-df-convert {\n",
              "      background-color: #3B4455;\n",
              "      fill: #D2E3FC;\n",
              "    }\n",
              "\n",
              "    [theme=dark] .colab-df-convert:hover {\n",
              "      background-color: #434B5C;\n",
              "      box-shadow: 0px 1px 3px 1px rgba(0, 0, 0, 0.15);\n",
              "      filter: drop-shadow(0px 1px 2px rgba(0, 0, 0, 0.3));\n",
              "      fill: #FFFFFF;\n",
              "    }\n",
              "  </style>\n",
              "\n",
              "      <script>\n",
              "        const buttonEl =\n",
              "          document.querySelector('#df-0538740e-89b0-4a6f-a610-7bf89c147b80 button.colab-df-convert');\n",
              "        buttonEl.style.display =\n",
              "          google.colab.kernel.accessAllowed ? 'block' : 'none';\n",
              "\n",
              "        async function convertToInteractive(key) {\n",
              "          const element = document.querySelector('#df-0538740e-89b0-4a6f-a610-7bf89c147b80');\n",
              "          const dataTable =\n",
              "            await google.colab.kernel.invokeFunction('convertToInteractive',\n",
              "                                                     [key], {});\n",
              "          if (!dataTable) return;\n",
              "\n",
              "          const docLinkHtml = 'Like what you see? Visit the ' +\n",
              "            '<a target=\"_blank\" href=https://colab.research.google.com/notebooks/data_table.ipynb>data table notebook</a>'\n",
              "            + ' to learn more about interactive tables.';\n",
              "          element.innerHTML = '';\n",
              "          dataTable['output_type'] = 'display_data';\n",
              "          await google.colab.output.renderOutput(dataTable, element);\n",
              "          const docLink = document.createElement('div');\n",
              "          docLink.innerHTML = docLinkHtml;\n",
              "          element.appendChild(docLink);\n",
              "        }\n",
              "      </script>\n",
              "    </div>\n",
              "  </div>\n",
              "  "
            ],
            "text/plain": [
              "             날짜     시가     고가     저가     종가     거래량  외국인소진율    종목코드\n",
              "0    2016-01-04   8130   8150   7920   8140  281440    7.45  000020\n",
              "1    2016-01-05   8040   8250   8000   8190  243179    7.49  000020\n",
              "2    2016-01-06   8200   8590   8110   8550  609906    7.63  000020\n",
              "3    2016-01-07   8470   8690   8190   8380  704752    7.59  000020\n",
              "4    2016-01-08   8210   8900   8130   8770  802330    7.60  000020\n",
              "...         ...    ...    ...    ...    ...     ...     ...     ...\n",
              "1367 2021-07-26  14700  14700  14350  14400  192180    2.54  000020\n",
              "1368 2021-07-27  14500  14550  14350  14400   96069    2.55  000020\n",
              "1369 2021-07-28  14300  14600  14300  14450   94912    2.56  000020\n",
              "1370 2021-07-29  14500  14650  14500  14600   83468    2.56  000020\n",
              "1371 2021-07-30  14650  14750  14400  14650  115604    2.55  000020\n",
              "\n",
              "[1372 rows x 8 columns]"
            ]
          },
          "metadata": {},
          "execution_count": 27
        }
      ]
    },
    {
      "cell_type": "markdown",
      "source": [
        "셀레니움 라이브러리를 이용하는 것이 아니라 api를 이용해 크롤링을 한다면 네이버 금융 api 이외에도 데이터 api가 공개되어있는 사이트들을 크롤링 할 수 있습니다."
      ],
      "metadata": {
        "id": "tfQRMEHg8JS8"
      }
    }
  ]
}
